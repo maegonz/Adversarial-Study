{
 "cells": [
  {
   "cell_type": "code",
   "execution_count": null,
   "id": "0afecb56",
   "metadata": {},
   "outputs": [],
   "source": [
    "import numpy as np\n",
    "import pandas as pd\n",
    "import torch\n",
    "import torch.nn\n",
    "import matplotlib.pyplot as plt\n",
    "\n",
    "from craft.craft_torch import Craft, torch_to_numpy\n",
    "from data.dataloader import *\n",
    "from data.dataprocess import *\n",
    "from model.resnet import ResNet\n",
    "from model.submodel import *\n",
    "from model.method import *"
   ]
  },
  {
   "cell_type": "code",
   "execution_count": null,
   "id": "e1ca761b",
   "metadata": {},
   "outputs": [],
   "source": [
    "model = ResNet(n_class=10)\n",
    "\n",
    "CRITERION = nn.CrossEntropyLoss()\n",
    "OPTIMIZER = torch.optim.SGD(model.parameters(), lr=0.001, momentum=0.9)\n",
    "DEVICE = 'cuda' if torch.cuda.is_available() else 'cpu'\n",
    "EPOCHS = 10\n",
    "\n",
    "model.to(device=DEVICE)"
   ]
  },
  {
   "cell_type": "markdown",
   "id": "f2bf33a9",
   "metadata": {},
   "source": [
    "## Training"
   ]
  },
  {
   "cell_type": "code",
   "execution_count": null,
   "id": "f5a9a4ed",
   "metadata": {},
   "outputs": [],
   "source": [
    "train_ld, test_ld = dataloader('CIFAR10', 100, True)\n",
    "\n",
    "classes_name = ['airplane', 'automobile', 'bird', 'cat', 'deer',\n",
    "                'dog', 'frog', 'horse', 'ship', 'truck']\n",
    "\n",
    "training(model=model,\n",
    "        train_set=train_ld,\n",
    "        criterion=CRITERION,\n",
    "        optimizer=OPTIMIZER,\n",
    "        device=DEVICE,\n",
    "        epochs=10)\n",
    "\n",
    "evaluating(model=model,\n",
    "           data_set=test_ld,\n",
    "           criterion=CRITERION,\n",
    "           device=DEVICE)"
   ]
  },
  {
   "cell_type": "code",
   "execution_count": null,
   "id": "42389783",
   "metadata": {},
   "outputs": [],
   "source": [
    "img_by_cl = {name: separation(test_ld, i) for i, name in enumerate(classes_name)}"
   ]
  },
  {
   "cell_type": "markdown",
   "id": "067be145",
   "metadata": {},
   "source": [
    "## Concepts with CRAFT"
   ]
  },
  {
   "cell_type": "code",
   "execution_count": null,
   "id": "76b2ef00",
   "metadata": {},
   "outputs": [],
   "source": [
    "g, h = split(model=model)"
   ]
  },
  {
   "cell_type": "code",
   "execution_count": null,
   "id": "65e95e1e",
   "metadata": {},
   "outputs": [],
   "source": [
    "craft = Craft(input_to_latent = g,\n",
    "              latent_to_logit = h,\n",
    "              number_of_concepts = 5,\n",
    "              patch_size = 12,\n",
    "              batch_size = 64,\n",
    "              device = DEVICE)\n",
    "\n",
    "# now we can start fit the concept using our rabbit images\n",
    "# CRAFT will (1) create the patches, (2) find the concept\n",
    "# and (3) return the crops (crops), the embedding of the crops (crops_u), and the concept bank (w)\n",
    "crops, crops_u, w = craft.fit(img_by_cl['airplane'])\n",
    "crops = np.moveaxis(torch_to_numpy(crops), 1, -1)\n",
    "\n",
    "crops.shape, crops_u.shape, w.shape"
   ]
  },
  {
   "cell_type": "code",
   "execution_count": null,
   "id": "b7312e74",
   "metadata": {},
   "outputs": [],
   "source": [
    "importances = craft.estimate_importance(img_by_cl['airplane'], class_id=0)\n",
    "\n",
    "plt.bar(range(len(importances)), importances)\n",
    "plt.xticks(range(len(importances)))\n",
    "plt.title(\"Concept Importance\")\n",
    "\n",
    "most_important_concepts = np.argsort(importances)[::-1][:5]\n",
    "\n",
    "for c_id in most_important_concepts:\n",
    "  print(\"Concept\", c_id, \" has an importance value of \", importances[c_id])"
   ]
  },
  {
   "cell_type": "markdown",
   "id": "7d20865d",
   "metadata": {},
   "source": [
    "### Bank of concepts"
   ]
  },
  {
   "cell_type": "markdown",
   "id": "70224f41",
   "metadata": {},
   "source": [
    "## Adversarial Generation"
   ]
  },
  {
   "cell_type": "markdown",
   "id": "b12cdd6e",
   "metadata": {},
   "source": [
    "### Projection"
   ]
  },
  {
   "cell_type": "markdown",
   "id": "786b72aa",
   "metadata": {},
   "source": [
    "## SVM"
   ]
  }
 ],
 "metadata": {
  "kernelspec": {
   "display_name": "adv-std",
   "language": "python",
   "name": "python3"
  },
  "language_info": {
   "name": "python",
   "version": "3.12.11"
  }
 },
 "nbformat": 4,
 "nbformat_minor": 5
}
