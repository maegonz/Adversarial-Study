{
 "cells": [
  {
   "cell_type": "code",
   "execution_count": null,
   "id": "0afecb56",
   "metadata": {},
   "outputs": [],
   "source": [
    "import numpy as np\n",
    "import pandas as pd\n",
    "import torch\n",
    "import torch.nn\n",
    "import matplotlib.pyplot\n",
    "import craft.craft_torch\n",
    "\n",
    "from data.dataloader import *\n",
    "from model.resnet import ResNet\n",
    "from model.method import *"
   ]
  },
  {
   "cell_type": "code",
   "execution_count": null,
   "id": "e1ca761b",
   "metadata": {},
   "outputs": [],
   "source": [
    "model = ResNet(n_class=10)\n",
    "\n",
    "CRITERION = nn.CrossEntropyLoss()\n",
    "OPTIMIZER = torch.optim.SGD(model.parameters(), lr=0.001, momentum=0.9)\n",
    "DEVICE = 'cuda' if torch.cuda.is_available() else 'cpu'\n",
    "EPOCHS = 10\n",
    "\n",
    "model.to(device=DEVICE)"
   ]
  },
  {
   "cell_type": "markdown",
   "id": "f2bf33a9",
   "metadata": {},
   "source": [
    "## Training"
   ]
  },
  {
   "cell_type": "code",
   "execution_count": null,
   "id": "f5a9a4ed",
   "metadata": {},
   "outputs": [],
   "source": [
    "train_ld, test_ld = dataloader('CIFAR10', 100, True)\n",
    "x_train, y_train = get_tensors(train_ld)\n",
    "\n",
    "x_train.shape"
   ]
  },
  {
   "cell_type": "markdown",
   "id": "067be145",
   "metadata": {},
   "source": [
    "## Concepts with CRAFT"
   ]
  },
  {
   "cell_type": "markdown",
   "id": "7d20865d",
   "metadata": {},
   "source": [
    "### Bank of concepts"
   ]
  },
  {
   "cell_type": "markdown",
   "id": "b12cdd6e",
   "metadata": {},
   "source": [
    "### Projection"
   ]
  },
  {
   "cell_type": "markdown",
   "id": "786b72aa",
   "metadata": {},
   "source": [
    "## SVM"
   ]
  }
 ],
 "metadata": {
  "kernelspec": {
   "display_name": "adv-std",
   "language": "python",
   "name": "python3"
  },
  "language_info": {
   "name": "python",
   "version": "3.12.11"
  }
 },
 "nbformat": 4,
 "nbformat_minor": 5
}
